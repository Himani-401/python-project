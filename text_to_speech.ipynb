{
 "cells": [
  {
   "cell_type": "code",
   "execution_count": null,
   "id": "faab20a1-ffe5-4e90-be81-8f9e847a4ca0",
   "metadata": {},
   "outputs": [],
   "source": [
    "6*3\n"
   ]
  },
  {
   "cell_type": "code",
   "execution_count": 1,
   "id": "b6b3f8c3-3635-4b82-915d-58029938d1a7",
   "metadata": {},
   "outputs": [
    {
     "data": {
      "text/plain": [
       "18"
      ]
     },
     "execution_count": 1,
     "metadata": {},
     "output_type": "execute_result"
    }
   ],
   "source": [
    "6*3"
   ]
  },
  {
   "cell_type": "code",
   "execution_count": 2,
   "id": "c21fe764-a436-406a-a8af-0d24aee27081",
   "metadata": {},
   "outputs": [
    {
     "name": "stdout",
     "output_type": "stream",
     "text": [
      "hello\n"
     ]
    }
   ],
   "source": [
    "print(\"hello\")"
   ]
  },
  {
   "cell_type": "code",
   "execution_count": 4,
   "id": "10743b6f-ed70-453f-b1d1-3570b57a0865",
   "metadata": {},
   "outputs": [
    {
     "name": "stdout",
     "output_type": "stream",
     "text": [
      "Collecting pyaudio\n",
      "  Downloading PyAudio-0.2.14-cp311-cp311-win_amd64.whl.metadata (2.7 kB)\n",
      "Downloading PyAudio-0.2.14-cp311-cp311-win_amd64.whl (164 kB)\n",
      "   ---------------------------------------- 0.0/164.1 kB ? eta -:--:--\n",
      "   ---------------------------------------- 0.0/164.1 kB ? eta -:--:--\n",
      "   -- ------------------------------------- 10.2/164.1 kB ? eta -:--:--\n",
      "   -- ------------------------------------- 10.2/164.1 kB ? eta -:--:--\n",
      "   ------- ------------------------------- 30.7/164.1 kB 217.9 kB/s eta 0:00:01\n",
      "   ------- ------------------------------- 30.7/164.1 kB 217.9 kB/s eta 0:00:01\n",
      "   --------- ----------------------------- 41.0/164.1 kB 178.6 kB/s eta 0:00:01\n",
      "   -------------- ------------------------ 61.4/164.1 kB 233.8 kB/s eta 0:00:01\n",
      "   ------------------- ------------------- 81.9/164.1 kB 255.1 kB/s eta 0:00:01\n",
      "   ------------------- ------------------- 81.9/164.1 kB 255.1 kB/s eta 0:00:01\n",
      "   --------------------- ----------------- 92.2/164.1 kB 228.2 kB/s eta 0:00:01\n",
      "   -------------------------- ----------- 112.6/164.1 kB 242.7 kB/s eta 0:00:01\n",
      "   -------------------------- ----------- 112.6/164.1 kB 242.7 kB/s eta 0:00:01\n",
      "   ---------------------------- --------- 122.9/164.1 kB 225.3 kB/s eta 0:00:01\n",
      "   ---------------------------- --------- 122.9/164.1 kB 225.3 kB/s eta 0:00:01\n",
      "   --------------------------------- ---- 143.4/164.1 kB 224.1 kB/s eta 0:00:01\n",
      "   -------------------------------------- 164.1/164.1 kB 234.5 kB/s eta 0:00:00\n",
      "Installing collected packages: pyaudio\n",
      "Successfully installed pyaudio-0.2.14\n",
      "Note: you may need to restart the kernel to use updated packages.\n"
     ]
    }
   ],
   "source": [
    "pip install pyaudio"
   ]
  },
  {
   "cell_type": "code",
   "execution_count": 16,
   "id": "6b09aa53-092d-4b29-b547-0a32b1ca0e64",
   "metadata": {},
   "outputs": [
    {
     "name": "stdout",
     "output_type": "stream",
     "text": [
      "Collecting SpeechRecognitionNote: you may need to restart the kernel to use updated packages.\n",
      "\n",
      "  Using cached SpeechRecognition-3.10.1-py2.py3-none-any.whl.metadata (28 kB)\n",
      "Requirement already satisfied: requests>=2.26.0 in c:\\users\\welcome\\anaconda3\\lib\\site-packages (from SpeechRecognition) (2.31.0)\n",
      "Requirement already satisfied: typing-extensions in c:\\users\\welcome\\anaconda3\\lib\\site-packages (from SpeechRecognition) (4.9.0)\n",
      "Requirement already satisfied: charset-normalizer<4,>=2 in c:\\users\\welcome\\anaconda3\\lib\\site-packages (from requests>=2.26.0->SpeechRecognition) (2.0.4)\n",
      "Requirement already satisfied: idna<4,>=2.5 in c:\\users\\welcome\\anaconda3\\lib\\site-packages (from requests>=2.26.0->SpeechRecognition) (3.4)\n",
      "Requirement already satisfied: urllib3<3,>=1.21.1 in c:\\users\\welcome\\anaconda3\\lib\\site-packages (from requests>=2.26.0->SpeechRecognition) (2.0.7)\n",
      "Requirement already satisfied: certifi>=2017.4.17 in c:\\users\\welcome\\anaconda3\\lib\\site-packages (from requests>=2.26.0->SpeechRecognition) (2024.2.2)\n",
      "Downloading SpeechRecognition-3.10.1-py2.py3-none-any.whl (32.8 MB)\n",
      "   ---------------------------------------- 0.0/32.8 MB ? eta -:--:--\n",
      "   ---------------------------------------- 0.0/32.8 MB ? eta -:--:--\n",
      "   ---------------------------------------- 0.0/32.8 MB ? eta -:--:--\n",
      "   ---------------------------------------- 0.0/32.8 MB 220.2 kB/s eta 0:02:29\n",
      "   ---------------------------------------- 0.0/32.8 MB 219.4 kB/s eta 0:02:30\n",
      "   ---------------------------------------- 0.1/32.8 MB 273.8 kB/s eta 0:02:00\n",
      "   ---------------------------------------- 0.1/32.8 MB 273.8 kB/s eta 0:02:00\n",
      "   ---------------------------------------- 0.1/32.8 MB 400.9 kB/s eta 0:01:22\n",
      "   ---------------------------------------- 0.2/32.8 MB 597.1 kB/s eta 0:00:55\n",
      "   ---------------------------------------- 0.4/32.8 MB 919.0 kB/s eta 0:00:36\n",
      "   ---------------------------------------- 0.4/32.8 MB 1.0 MB/s eta 0:00:32\n",
      "   ---------------------------------------- 0.4/32.8 MB 1.0 MB/s eta 0:00:32\n",
      "    --------------------------------------- 0.7/32.8 MB 1.3 MB/s eta 0:00:25\n",
      "   - -------------------------------------- 1.3/32.8 MB 2.3 MB/s eta 0:00:14\n",
      "   -- ------------------------------------- 2.3/32.8 MB 3.9 MB/s eta 0:00:08\n",
      "   -- ------------------------------------- 2.3/32.8 MB 3.9 MB/s eta 0:00:08\n",
      "   --- ------------------------------------ 3.0/32.8 MB 4.2 MB/s eta 0:00:08\n",
      "   ----- ---------------------------------- 4.5/32.8 MB 5.8 MB/s eta 0:00:05\n",
      "   ------ --------------------------------- 5.7/32.8 MB 7.2 MB/s eta 0:00:04\n",
      "   ------- -------------------------------- 6.4/32.8 MB 7.9 MB/s eta 0:00:04\n",
      "   ------- -------------------------------- 6.4/32.8 MB 7.9 MB/s eta 0:00:04\n",
      "   -------- ------------------------------- 7.3/32.8 MB 8.1 MB/s eta 0:00:04\n",
      "   --------- ------------------------------ 7.8/32.8 MB 8.2 MB/s eta 0:00:04\n",
      "   ---------- ----------------------------- 8.8/32.8 MB 8.8 MB/s eta 0:00:03\n",
      "   ------------ --------------------------- 10.2/32.8 MB 9.9 MB/s eta 0:00:03\n",
      "   ------------ --------------------------- 10.3/32.8 MB 13.4 MB/s eta 0:00:02\n",
      "   ------------- -------------------------- 11.1/32.8 MB 17.7 MB/s eta 0:00:02\n",
      "   -------------- ------------------------- 11.8/32.8 MB 17.7 MB/s eta 0:00:02\n",
      "   ---------------- ----------------------- 13.3/32.8 MB 20.5 MB/s eta 0:00:01\n",
      "   ----------------- ---------------------- 14.8/32.8 MB 21.8 MB/s eta 0:00:01\n",
      "   ----------------- ---------------------- 14.8/32.8 MB 21.8 MB/s eta 0:00:01\n",
      "   ------------------ --------------------- 15.4/32.8 MB 18.7 MB/s eta 0:00:01\n",
      "   ------------------- -------------------- 16.4/32.8 MB 18.2 MB/s eta 0:00:01\n",
      "   --------------------- ------------------ 17.8/32.8 MB 21.8 MB/s eta 0:00:01\n",
      "   ---------------------- ----------------- 18.8/32.8 MB 22.6 MB/s eta 0:00:01\n",
      "   ----------------------- ---------------- 19.1/32.8 MB 21.9 MB/s eta 0:00:01\n",
      "   ------------------------ --------------- 20.0/32.8 MB 19.8 MB/s eta 0:00:01\n",
      "   -------------------------- ------------- 21.4/32.8 MB 21.9 MB/s eta 0:00:01\n",
      "   ---------------------------- ----------- 23.4/32.8 MB 22.6 MB/s eta 0:00:01\n",
      "   ----------------------------- ---------- 23.9/32.8 MB 22.5 MB/s eta 0:00:01\n",
      "   ----------------------------- ---------- 24.4/32.8 MB 19.8 MB/s eta 0:00:01\n",
      "   -------------------------------- ------- 26.3/32.8 MB 22.6 MB/s eta 0:00:01\n",
      "   ---------------------------------- ----- 28.0/32.8 MB 22.6 MB/s eta 0:00:01\n",
      "   ----------------------------------- ---- 29.0/32.8 MB 21.8 MB/s eta 0:00:01\n",
      "   ----------------------------------- ---- 29.3/32.8 MB 21.1 MB/s eta 0:00:01\n",
      "   ------------------------------------ --- 30.2/32.8 MB 21.1 MB/s eta 0:00:01\n",
      "   ---------------------------------------  32.4/32.8 MB 22.6 MB/s eta 0:00:01\n",
      "   ---------------------------------------  32.8/32.8 MB 21.9 MB/s eta 0:00:01\n",
      "   ---------------------------------------  32.8/32.8 MB 21.9 MB/s eta 0:00:01\n",
      "   ---------------------------------------  32.8/32.8 MB 21.9 MB/s eta 0:00:01\n",
      "   ---------------------------------------- 32.8/32.8 MB 16.4 MB/s eta 0:00:00\n",
      "Installing collected packages: SpeechRecognition\n",
      "Successfully installed SpeechRecognition-3.10.1\n"
     ]
    }
   ],
   "source": [
    "pip install SpeechRecognition\n"
   ]
  },
  {
   "cell_type": "code",
   "execution_count": 11,
   "id": "d461d1a5-409e-42af-861e-a487dcf7423c",
   "metadata": {},
   "outputs": [
    {
     "name": "stdout",
     "output_type": "stream",
     "text": [
      "Collecting pygame\n",
      "  Downloading pygame-2.5.2-cp311-cp311-win_amd64.whl.metadata (13 kB)\n",
      "Downloading pygame-2.5.2-cp311-cp311-win_amd64.whl (10.8 MB)\n",
      "   ---------------------------------------- 0.0/10.8 MB ? eta -:--:--\n",
      "   ---------------------------------------- 0.0/10.8 MB ? eta -:--:--\n",
      "   ---------------------------------------- 0.0/10.8 MB ? eta -:--:--\n",
      "   ---------------------------------------- 0.1/10.8 MB 544.7 kB/s eta 0:00:20\n",
      "   - -------------------------------------- 0.3/10.8 MB 2.0 MB/s eta 0:00:06\n",
      "   - -------------------------------------- 0.4/10.8 MB 2.6 MB/s eta 0:00:05\n",
      "   --- ------------------------------------ 1.1/10.8 MB 4.5 MB/s eta 0:00:03\n",
      "   ------- -------------------------------- 2.1/10.8 MB 7.5 MB/s eta 0:00:02\n",
      "   ---------- ----------------------------- 2.8/10.8 MB 8.9 MB/s eta 0:00:01\n",
      "   ------------ --------------------------- 3.5/10.8 MB 9.2 MB/s eta 0:00:01\n",
      "   ---------------- ----------------------- 4.3/10.8 MB 10.2 MB/s eta 0:00:01\n",
      "   -------------------- ------------------- 5.6/10.8 MB 11.8 MB/s eta 0:00:01\n",
      "   ------------------------ --------------- 6.5/10.8 MB 12.5 MB/s eta 0:00:01\n",
      "   ---------------------------- ----------- 7.7/10.8 MB 13.6 MB/s eta 0:00:01\n",
      "   ------------------------------ --------- 8.3/10.8 MB 13.6 MB/s eta 0:00:01\n",
      "   ---------------------------------- ----- 9.2/10.8 MB 14.0 MB/s eta 0:00:01\n",
      "   ------------------------------------- -- 10.0/10.8 MB 14.2 MB/s eta 0:00:01\n",
      "   ---------------------------------------  10.8/10.8 MB 19.3 MB/s eta 0:00:01\n",
      "   ---------------------------------------  10.8/10.8 MB 19.3 MB/s eta 0:00:01\n",
      "   ---------------------------------------- 10.8/10.8 MB 16.8 MB/s eta 0:00:00\n",
      "Installing collected packages: pygame\n",
      "Successfully installed pygame-2.5.2\n",
      "Note: you may need to restart the kernel to use updated packages.\n"
     ]
    }
   ],
   "source": [
    "pip install pygame\n"
   ]
  },
  {
   "cell_type": "code",
   "execution_count": null,
   "id": "c085287e-25dc-441f-8d60-8c1596228f30",
   "metadata": {},
   "outputs": [],
   "source": [
    "\n",
    "pip install gTTS"
   ]
  },
  {
   "cell_type": "code",
   "execution_count": null,
   "id": "a469b8dd-205a-4bf6-a035-3d255fc9b967",
   "metadata": {},
   "outputs": [],
   "source": [
    "pip install SpeechRecognition"
   ]
  },
  {
   "cell_type": "code",
   "execution_count": 2,
   "id": "01867cf9-e2f5-4b83-a25f-c7b3c28eed91",
   "metadata": {},
   "outputs": [
    {
     "name": "stdout",
     "output_type": "stream",
     "text": [
      "Collecting pyttsx3Note: you may need to restart the kernel to use updated packages.\n",
      "\n",
      "  Using cached pyttsx3-2.90-py3-none-any.whl.metadata (3.6 kB)\n",
      "Collecting comtypes (from pyttsx3)\n",
      "  Using cached comtypes-1.3.1-py3-none-any.whl.metadata (5.6 kB)\n",
      "Collecting pypiwin32 (from pyttsx3)\n",
      "  Using cached pypiwin32-223-py3-none-any.whl.metadata (236 bytes)\n",
      "Requirement already satisfied: pywin32 in c:\\users\\welcome\\anaconda3\\lib\\site-packages (from pyttsx3) (305.1)\n",
      "Using cached pyttsx3-2.90-py3-none-any.whl (39 kB)\n",
      "Using cached comtypes-1.3.1-py3-none-any.whl (197 kB)\n",
      "Using cached pypiwin32-223-py3-none-any.whl (1.7 kB)\n",
      "Installing collected packages: comtypes, pypiwin32, pyttsx3\n",
      "Successfully installed comtypes-1.3.1 pypiwin32-223 pyttsx3-2.90\n"
     ]
    }
   ],
   "source": [
    "pip install pyttsx3"
   ]
  },
  {
   "cell_type": "code",
   "execution_count": 7,
   "id": "7f24d804-ff77-4801-91de-df39ad43fc17",
   "metadata": {},
   "outputs": [],
   "source": [
    "import tkinter as tk\n",
    "from tkinter import *\n",
    "from tkinter import filedialog\n",
    "from tkinter.ttk import Combobox\n",
    "import pyttsx3\n",
    "import os\n",
    "\n",
    "\n",
    "root=Tk()\n",
    "root.title(\"text_to_speech\")\n",
    "root.geometry(\"900x450+100+100\")\n",
    "root.resizable(False,False)\n",
    "root.configure(bg=\"black\")\n",
    "\n",
    "engine = pyttsx3.init()\n",
    "\n",
    "def speaknow():\n",
    "    text=text_area.get(1.0,END)\n",
    "    gender=gender_combobox.get()\n",
    "    speed=speed_combobox.get()\n",
    "    voices=engine.getProperty('voices')\n",
    "\n",
    "\n",
    "    def setvoice():\n",
    "        if(gender=='Male'):\n",
    "           engine.setProperty('voice', voices[0].id)\n",
    "           engine.say(text)\n",
    "           engine.runAndWait()\n",
    "        else:\n",
    "           engine.setProperty('voice', voices[1].id)\n",
    "           engine.say(text)\n",
    "           engine.runAndWait()\n",
    "\n",
    "\n",
    "    if(text):\n",
    "        if(speed==\"Fast\"):\n",
    "            engine.setProperty('rate',250)\n",
    "            setvoice()\n",
    "        elif(speed==\"Normal\"):\n",
    "            engine.setProperty('rate',150)\n",
    "            setvoice()\n",
    "        else:\n",
    "            engine.setProperty('rate',60)\n",
    "            setvoice()\n",
    "        \n",
    "\n",
    "def download():\n",
    "    text=text_area.get(1.0,END)\n",
    "    gender=gender_combobox.get()\n",
    "    speed=speed_combobox.get()\n",
    "    voices=engine.getProperty('voices')\n",
    "\n",
    "\n",
    "    def setvoice():\n",
    "        if(gender=='Male'):\n",
    "           engine.setProperty('voice', voices[0].id)\n",
    "           path=filedialog.askdirectory()\n",
    "           os.chdir(path)\n",
    "           engine.save_to_file(text,'text.mp3')\n",
    "           engine.runAndWait()\n",
    "        else:\n",
    "           engine.setProperty('voice', voices[1].id)\n",
    "           path=filedialog.askdirectory()\n",
    "           os.chdir(path)\n",
    "           engine.save_to_file(text,'text.mp3')\n",
    "           engine.runAndWait()\n",
    "\n",
    "\n",
    "    if(text):\n",
    "        if(speed==\"Fast\"):\n",
    "            engine.setProperty('rate',250)\n",
    "            setvoice()\n",
    "        elif(speed==\"Normal\"):\n",
    "            engine.setProperty('rate',150)\n",
    "            setvoice()\n",
    "        else:\n",
    "            engine.setProperty('rate',60)\n",
    "            setvoice()\n",
    "    print()\n",
    "\n",
    "\n",
    "\n",
    "Top_frame=Frame(root,bg=\"white\",width=900,height=100)\n",
    "Top_frame.place(x=0,y=0)\n",
    "\n",
    "Label(Top_frame,text=\"Text to Speech\",font=\"arial 20 bold\",bg=\"white\",fg=\"black\").place(x=100,y=30)\n",
    "\n",
    "\n",
    "\n",
    "\n",
    "text_area=Text(root,font=\"Robote 20\", bg=\"white\",relief=GROOVE, wrap=WORD)\n",
    "text_area.place(x=10,y=150,width=500,height=250)\n",
    "\n",
    "\n",
    "Label(root,text=\"VOICE\",font=\"arial 15 bold\", bg=\"#305065\",fg=\"white\").place(x=760,y=160)\n",
    "\n",
    "Label(root,text=\"SPEED\",font=\"arial 15 bold\", bg=\"#305065\",fg=\"white\").place(x=550,y=160)\n",
    "\n",
    "\n",
    "\n",
    "\n",
    "gender_combobox=Combobox(root,values=['Male','Female'],font=\"arial 14\", state='r',width=10)\n",
    "gender_combobox.place(x=550,y=200)\n",
    "gender_combobox.set('Male')\n",
    "\n",
    "\n",
    "speed_combobox=Combobox(root,values=['Fast','normal','slow'],font=\"arial 14\", state='r',width=10)\n",
    "speed_combobox.place(x=730,y=200)\n",
    "speed_combobox.set('normal')\n",
    "\n",
    "\n",
    "btn=Button(root,text=\"Speak\",compound=LEFT, width=10,font=\"arial 14 bold\",command=speaknow)\n",
    "btn.place(x=550,y=300)\n",
    "\n",
    "save=Button(root,text=\"Save\",compound=LEFT,bg=\"#39c790\", width=10,font=\"arial 14 bold\",command=download)\n",
    "save.place(x=730,y=300)\n",
    "\n",
    "\n",
    "\n",
    "root.mainloop()\n"
   ]
  },
  {
   "cell_type": "code",
   "execution_count": null,
   "id": "60289d15-f809-4721-b59c-eda0da81b5b1",
   "metadata": {},
   "outputs": [],
   "source": []
  },
  {
   "cell_type": "code",
   "execution_count": null,
   "id": "3fc41199-3b3c-4f3b-83d3-57e58ed044ed",
   "metadata": {},
   "outputs": [],
   "source": []
  }
 ],
 "metadata": {
  "kernelspec": {
   "display_name": "Python 3 (ipykernel)",
   "language": "python",
   "name": "python3"
  },
  "language_info": {
   "codemirror_mode": {
    "name": "ipython",
    "version": 3
   },
   "file_extension": ".py",
   "mimetype": "text/x-python",
   "name": "python",
   "nbconvert_exporter": "python",
   "pygments_lexer": "ipython3",
   "version": "3.11.7"
  }
 },
 "nbformat": 4,
 "nbformat_minor": 5
}
